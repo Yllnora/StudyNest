{
 "cells": [
  {
   "cell_type": "code",
   "execution_count": 1,
   "id": "6692e1ea-ffc5-428f-9fab-4e97519279f0",
   "metadata": {},
   "outputs": [
    {
     "name": "stdout",
     "output_type": "stream",
     "text": [
      "Requirement already satisfied: djangorestframework in /opt/anaconda3/lib/python3.12/site-packages (3.15.2)\n",
      "Requirement already satisfied: django>=4.2 in /opt/anaconda3/lib/python3.12/site-packages (from djangorestframework) (5.1.3)\n",
      "Requirement already satisfied: asgiref<4,>=3.8.1 in /opt/anaconda3/lib/python3.12/site-packages (from django>=4.2->djangorestframework) (3.8.1)\n",
      "Requirement already satisfied: sqlparse>=0.3.1 in /opt/anaconda3/lib/python3.12/site-packages (from django>=4.2->djangorestframework) (0.5.2)\n",
      "Note: you may need to restart the kernel to use updated packages.\n"
     ]
    }
   ],
   "source": [
    "pip install djangorestframework"
   ]
  },
  {
   "cell_type": "code",
   "execution_count": 7,
   "id": "556ccc2c-79df-49db-a9d1-2abdf41fce5a",
   "metadata": {
    "scrolled": true
   },
   "outputs": [
    {
     "ename": "FileNotFoundError",
     "evalue": "[Errno 2] No such file or directory: 'studynest/booking/models.py'",
     "output_type": "error",
     "traceback": [
      "\u001b[0;31m---------------------------------------------------------------------------\u001b[0m",
      "\u001b[0;31mFileNotFoundError\u001b[0m                         Traceback (most recent call last)",
      "Cell \u001b[0;32mIn[7], line 14\u001b[0m\n\u001b[1;32m      1\u001b[0m model_code \u001b[38;5;241m=\u001b[39m \u001b[38;5;124m\"\"\"\u001b[39m\n\u001b[1;32m      2\u001b[0m \u001b[38;5;124mfrom django.db import models\u001b[39m\n\u001b[1;32m      3\u001b[0m \n\u001b[0;32m   (...)\u001b[0m\n\u001b[1;32m     11\u001b[0m \u001b[38;5;124m        return f\u001b[39m\u001b[38;5;124m\"\u001b[39m\u001b[38;5;124mBooking for \u001b[39m\u001b[38;5;132;01m{self.name}\u001b[39;00m\u001b[38;5;124m on \u001b[39m\u001b[38;5;132;01m{self.date}\u001b[39;00m\u001b[38;5;124m\"\u001b[39m\n\u001b[1;32m     12\u001b[0m \u001b[38;5;124m\"\"\"\u001b[39m\n\u001b[0;32m---> 14\u001b[0m \u001b[38;5;28;01mwith\u001b[39;00m \u001b[38;5;28mopen\u001b[39m(\u001b[38;5;124m\"\u001b[39m\u001b[38;5;124mstudynest/booking/models.py\u001b[39m\u001b[38;5;124m\"\u001b[39m, \u001b[38;5;124m\"\u001b[39m\u001b[38;5;124mw\u001b[39m\u001b[38;5;124m\"\u001b[39m) \u001b[38;5;28;01mas\u001b[39;00m file:\n\u001b[1;32m     15\u001b[0m     file\u001b[38;5;241m.\u001b[39mwrite(model_code)\n",
      "File \u001b[0;32m/opt/anaconda3/lib/python3.12/site-packages/IPython/core/interactiveshell.py:324\u001b[0m, in \u001b[0;36m_modified_open\u001b[0;34m(file, *args, **kwargs)\u001b[0m\n\u001b[1;32m    317\u001b[0m \u001b[38;5;28;01mif\u001b[39;00m file \u001b[38;5;129;01min\u001b[39;00m {\u001b[38;5;241m0\u001b[39m, \u001b[38;5;241m1\u001b[39m, \u001b[38;5;241m2\u001b[39m}:\n\u001b[1;32m    318\u001b[0m     \u001b[38;5;28;01mraise\u001b[39;00m \u001b[38;5;167;01mValueError\u001b[39;00m(\n\u001b[1;32m    319\u001b[0m         \u001b[38;5;124mf\u001b[39m\u001b[38;5;124m\"\u001b[39m\u001b[38;5;124mIPython won\u001b[39m\u001b[38;5;124m'\u001b[39m\u001b[38;5;124mt let you open fd=\u001b[39m\u001b[38;5;132;01m{\u001b[39;00mfile\u001b[38;5;132;01m}\u001b[39;00m\u001b[38;5;124m by default \u001b[39m\u001b[38;5;124m\"\u001b[39m\n\u001b[1;32m    320\u001b[0m         \u001b[38;5;124m\"\u001b[39m\u001b[38;5;124mas it is likely to crash IPython. If you know what you are doing, \u001b[39m\u001b[38;5;124m\"\u001b[39m\n\u001b[1;32m    321\u001b[0m         \u001b[38;5;124m\"\u001b[39m\u001b[38;5;124myou can use builtins\u001b[39m\u001b[38;5;124m'\u001b[39m\u001b[38;5;124m open.\u001b[39m\u001b[38;5;124m\"\u001b[39m\n\u001b[1;32m    322\u001b[0m     )\n\u001b[0;32m--> 324\u001b[0m \u001b[38;5;28;01mreturn\u001b[39;00m io_open(file, \u001b[38;5;241m*\u001b[39margs, \u001b[38;5;241m*\u001b[39m\u001b[38;5;241m*\u001b[39mkwargs)\n",
      "\u001b[0;31mFileNotFoundError\u001b[0m: [Errno 2] No such file or directory: 'studynest/booking/models.py'"
     ]
    }
   ],
   "source": [
    "model_code = \"\"\"\n",
    "from django.db import models\n",
    "\n",
    "class Booking(models.Model):\n",
    "    name = models.CharField(max_length=100)\n",
    "    email = models.EmailField()\n",
    "    date = models.DateTimeField()\n",
    "    number_of_people = models.IntegerField()\n",
    "\n",
    "    def __str__(self):\n",
    "        return f\"Booking for {self.name} on {self.date}\"\n",
    "\"\"\"\n",
    "\n",
    "with open(\"studynest/booking/models.py\", \"w\") as file:\n",
    "    file.write(model_code)"
   ]
  },
  {
   "cell_type": "code",
   "execution_count": 11,
   "id": "97281e3f-e7c4-43e1-81c2-53ed9ad7cc9b",
   "metadata": {},
   "outputs": [
    {
     "data": {
      "text/plain": [
       "0"
      ]
     },
     "execution_count": 11,
     "metadata": {},
     "output_type": "execute_result"
    }
   ],
   "source": [
    "# Erstelle die 'booking' App im Projektverzeichnis\n",
    "os.system(\"python manage.py startapp reservations\")\n"
   ]
  },
  {
   "cell_type": "code",
   "execution_count": 13,
   "id": "bc65253d-1712-49dc-9277-5e17be5a3016",
   "metadata": {},
   "outputs": [],
   "source": [
    "# Modellcode für 'Reservation' definieren\n",
    "model_code = \"\"\"\n",
    "from django.db import models\n",
    "\n",
    "class Reservation(models.Model):\n",
    "    name = models.CharField(max_length=100)\n",
    "    email = models.EmailField()\n",
    "    date = models.DateTimeField()\n",
    "    number_of_people = models.IntegerField()\n",
    "\n",
    "    def __str__(self):\n",
    "        return f\"Reservation for {self.name} on {self.date}\"\n",
    "\"\"\"\n",
    "\n",
    "# Den Pfad zur neuen 'models.py' Datei definieren\n",
    "model_path = 'studynest/reservations/models.py'\n",
    "\n",
    "# Erstelle die Datei, falls sie nicht existiert\n",
    "os.makedirs(os.path.dirname(model_path), exist_ok=True)\n",
    "\n",
    "# Schreibe den Modellcode in die 'models.py' Datei\n",
    "with open(model_path, \"w\") as file:\n",
    "    file.write(model_code)\n"
   ]
  },
  {
   "cell_type": "code",
   "execution_count": 18,
   "id": "c099fb97-b108-47bc-a526-d8abc2865523",
   "metadata": {},
   "outputs": [
    {
     "ename": "FileNotFoundError",
     "evalue": "[Errno 2] No such file or directory: 'studynest/studynest/settings.py'",
     "output_type": "error",
     "traceback": [
      "\u001b[0;31m---------------------------------------------------------------------------\u001b[0m",
      "\u001b[0;31mFileNotFoundError\u001b[0m                         Traceback (most recent call last)",
      "Cell \u001b[0;32mIn[18], line 5\u001b[0m\n\u001b[1;32m      2\u001b[0m settings_file_path \u001b[38;5;241m=\u001b[39m \u001b[38;5;124m\"\u001b[39m\u001b[38;5;124mstudynest/studynest/settings.py\u001b[39m\u001b[38;5;124m\"\u001b[39m\n\u001b[1;32m      4\u001b[0m \u001b[38;5;66;03m# Datei öffnen und bearbeiten\u001b[39;00m\n\u001b[0;32m----> 5\u001b[0m \u001b[38;5;28;01mwith\u001b[39;00m \u001b[38;5;28mopen\u001b[39m(settings_file_path, \u001b[38;5;124m\"\u001b[39m\u001b[38;5;124mr\u001b[39m\u001b[38;5;124m\"\u001b[39m) \u001b[38;5;28;01mas\u001b[39;00m file:\n\u001b[1;32m      6\u001b[0m     settings \u001b[38;5;241m=\u001b[39m file\u001b[38;5;241m.\u001b[39mreadlines()\n\u001b[1;32m      8\u001b[0m \u001b[38;5;66;03m# Suche nach der Stelle, an der INSTALLED_APPS definiert ist\u001b[39;00m\n",
      "File \u001b[0;32m/opt/anaconda3/lib/python3.12/site-packages/IPython/core/interactiveshell.py:324\u001b[0m, in \u001b[0;36m_modified_open\u001b[0;34m(file, *args, **kwargs)\u001b[0m\n\u001b[1;32m    317\u001b[0m \u001b[38;5;28;01mif\u001b[39;00m file \u001b[38;5;129;01min\u001b[39;00m {\u001b[38;5;241m0\u001b[39m, \u001b[38;5;241m1\u001b[39m, \u001b[38;5;241m2\u001b[39m}:\n\u001b[1;32m    318\u001b[0m     \u001b[38;5;28;01mraise\u001b[39;00m \u001b[38;5;167;01mValueError\u001b[39;00m(\n\u001b[1;32m    319\u001b[0m         \u001b[38;5;124mf\u001b[39m\u001b[38;5;124m\"\u001b[39m\u001b[38;5;124mIPython won\u001b[39m\u001b[38;5;124m'\u001b[39m\u001b[38;5;124mt let you open fd=\u001b[39m\u001b[38;5;132;01m{\u001b[39;00mfile\u001b[38;5;132;01m}\u001b[39;00m\u001b[38;5;124m by default \u001b[39m\u001b[38;5;124m\"\u001b[39m\n\u001b[1;32m    320\u001b[0m         \u001b[38;5;124m\"\u001b[39m\u001b[38;5;124mas it is likely to crash IPython. If you know what you are doing, \u001b[39m\u001b[38;5;124m\"\u001b[39m\n\u001b[1;32m    321\u001b[0m         \u001b[38;5;124m\"\u001b[39m\u001b[38;5;124myou can use builtins\u001b[39m\u001b[38;5;124m'\u001b[39m\u001b[38;5;124m open.\u001b[39m\u001b[38;5;124m\"\u001b[39m\n\u001b[1;32m    322\u001b[0m     )\n\u001b[0;32m--> 324\u001b[0m \u001b[38;5;28;01mreturn\u001b[39;00m io_open(file, \u001b[38;5;241m*\u001b[39margs, \u001b[38;5;241m*\u001b[39m\u001b[38;5;241m*\u001b[39mkwargs)\n",
      "\u001b[0;31mFileNotFoundError\u001b[0m: [Errno 2] No such file or directory: 'studynest/studynest/settings.py'"
     ]
    }
   ],
   "source": [
    "# Öffne die settings.py Datei und bearbeite 'INSTALLED_APPS'\n",
    "settings_file_path = \"studynest/studynest/settings.py\"\n",
    "\n",
    "# Datei öffnen und bearbeiten\n",
    "with open(settings_file_path, \"r\") as file:\n",
    "    settings = file.readlines()\n",
    "\n",
    "# Suche nach der Stelle, an der INSTALLED_APPS definiert ist\n",
    "installed_apps_index = settings.index(\"INSTALLED_APPS = [\\n\")\n",
    "settings.insert(installed_apps_index + 1, \"    'reservations',\\n\")\n",
    "\n",
    "# Speichere die geänderte Datei\n",
    "with open(settings_file_path, \"w\") as file:\n",
    "    file.writelines(settings)\n",
    "\n"
   ]
  },
  {
   "cell_type": "code",
   "execution_count": 20,
   "id": "fcea9eaa-6e54-44ed-b801-886ef5c64f37",
   "metadata": {},
   "outputs": [
    {
     "data": {
      "text/plain": [
       "'/Users/yllnorahoxha/studynest'"
      ]
     },
     "execution_count": 20,
     "metadata": {},
     "output_type": "execute_result"
    }
   ],
   "source": [
    "import os\n",
    "os.getcwd()\n"
   ]
  },
  {
   "cell_type": "code",
   "execution_count": 22,
   "id": "dc3456fb-aec9-451a-bfd0-19143b37ee93",
   "metadata": {},
   "outputs": [
    {
     "ename": "FileNotFoundError",
     "evalue": "[Errno 2] No such file or directory: 'studynest/studynest'",
     "output_type": "error",
     "traceback": [
      "\u001b[0;31m---------------------------------------------------------------------------\u001b[0m",
      "\u001b[0;31mFileNotFoundError\u001b[0m                         Traceback (most recent call last)",
      "Cell \u001b[0;32mIn[22], line 2\u001b[0m\n\u001b[1;32m      1\u001b[0m \u001b[38;5;66;03m# Überprüfen, ob die Datei 'settings.py' existiert\u001b[39;00m\n\u001b[0;32m----> 2\u001b[0m os\u001b[38;5;241m.\u001b[39mlistdir(\u001b[38;5;124m'\u001b[39m\u001b[38;5;124mstudynest/studynest\u001b[39m\u001b[38;5;124m'\u001b[39m)\n",
      "\u001b[0;31mFileNotFoundError\u001b[0m: [Errno 2] No such file or directory: 'studynest/studynest'"
     ]
    }
   ],
   "source": [
    "# Überprüfen, ob die Datei 'settings.py' existiert\n",
    "os.listdir('studynest/studynest')  # Der Pfad sollte 'studynest/studynest/settings.py' zurückgeben\n"
   ]
  },
  {
   "cell_type": "code",
   "execution_count": 24,
   "id": "96eb81af-dda2-419c-9ea2-83f84732f5b3",
   "metadata": {},
   "outputs": [
    {
     "data": {
      "text/plain": [
       "['Untitled.ipynb',\n",
       " 'booking',\n",
       " 'reservations',\n",
       " 'db.sqlite3',\n",
       " 'manage.py',\n",
       " '.ipynb_checkpoints',\n",
       " 'studynest']"
      ]
     },
     "execution_count": 24,
     "metadata": {},
     "output_type": "execute_result"
    }
   ],
   "source": [
    "# Zeigt den Inhalt des aktuellen Arbeitsverzeichnisses an\n",
    "os.listdir()\n"
   ]
  },
  {
   "cell_type": "code",
   "execution_count": 26,
   "id": "39fe0516-28e7-4064-9605-600631213979",
   "metadata": {},
   "outputs": [
    {
     "data": {
      "text/plain": [
       "['reservations',\n",
       " 'asgi.py',\n",
       " '__init__.py',\n",
       " '__pycache__',\n",
       " 'settings.py',\n",
       " '.ipynb_checkpoints',\n",
       " 'urls.py',\n",
       " 'wsgi.py']"
      ]
     },
     "execution_count": 26,
     "metadata": {},
     "output_type": "execute_result"
    }
   ],
   "source": [
    "os.listdir('studynest')\n"
   ]
  },
  {
   "cell_type": "code",
   "execution_count": 28,
   "id": "f57d4d81-df5d-4545-ad26-e7eb874bb9ec",
   "metadata": {},
   "outputs": [],
   "source": [
    "settings_file_path = 'studynest/settings.py'\n"
   ]
  },
  {
   "cell_type": "code",
   "execution_count": 30,
   "id": "d8af5341-1b2e-4028-9a07-aa3b3e83c8fe",
   "metadata": {},
   "outputs": [],
   "source": [
    "# Datei öffnen und bearbeiten\n",
    "with open(settings_file_path, \"r\") as file:\n",
    "    settings = file.readlines()\n",
    "\n",
    "# Nach 'INSTALLED_APPS' suchen und die App hinzufügen\n",
    "installed_apps_index = settings.index(\"INSTALLED_APPS = [\\n\")\n",
    "settings.insert(installed_apps_index + 1, \"    'reservations',\\n\")\n",
    "\n",
    "# Speichere die Änderungen\n",
    "with open(settings_file_path, \"w\") as file:\n",
    "    file.writelines(settings)\n"
   ]
  },
  {
   "cell_type": "code",
   "execution_count": 32,
   "id": "453f510c-39e6-468c-9271-dbf6fe9b31d3",
   "metadata": {},
   "outputs": [
    {
     "ename": "SyntaxError",
     "evalue": "invalid syntax (2072049376.py, line 1)",
     "output_type": "error",
     "traceback": [
      "\u001b[0;36m  Cell \u001b[0;32mIn[32], line 1\u001b[0;36m\u001b[0m\n\u001b[0;31m    python manage.py startapp reservations\u001b[0m\n\u001b[0m           ^\u001b[0m\n\u001b[0;31mSyntaxError\u001b[0m\u001b[0;31m:\u001b[0m invalid syntax\n"
     ]
    }
   ],
   "source": [
    "python manage.py startapp reservations\n"
   ]
  },
  {
   "cell_type": "code",
   "execution_count": null,
   "id": "dcf88885-8b44-4da6-9afc-47f288ed61c3",
   "metadata": {},
   "outputs": [],
   "source": []
  }
 ],
 "metadata": {
  "kernelspec": {
   "display_name": "Python 3 (ipykernel)",
   "language": "python",
   "name": "python3"
  },
  "language_info": {
   "codemirror_mode": {
    "name": "ipython",
    "version": 3
   },
   "file_extension": ".py",
   "mimetype": "text/x-python",
   "name": "python",
   "nbconvert_exporter": "python",
   "pygments_lexer": "ipython3",
   "version": "3.12.4"
  }
 },
 "nbformat": 4,
 "nbformat_minor": 5
}
